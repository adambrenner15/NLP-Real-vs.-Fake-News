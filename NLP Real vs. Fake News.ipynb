{
 "cells": [
  {
   "cell_type": "markdown",
   "id": "dbdd95bf-2927-411d-98d4-a5f7b01a3137",
   "metadata": {},
   "source": [
    "# NLP Project Real vs. Fake News"
   ]
  },
  {
   "cell_type": "markdown",
   "id": "1199f263-9e95-4556-afa6-d513cbaa2ba6",
   "metadata": {},
   "source": [
    "#### Adam Brenner"
   ]
  },
  {
   "cell_type": "code",
   "execution_count": 84,
   "id": "99953e26-f614-468a-9cec-292d35555fff",
   "metadata": {},
   "outputs": [],
   "source": [
    "import pandas as pd\n",
    "import numpy as np\n",
    "import re\n",
    "import nltk\n",
    "from nltk.corpus import stopwords\n",
    "\n",
    "from sklearn.pipeline import Pipeline\n",
    "from sklearn.feature_extraction.text import TfidfVectorizer\n",
    "from sklearn.svm import LinearSVC\n",
    "from sklearn.linear_model import SGDClassifier\n",
    "from sklearn.naive_bayes import MultinomialNB"
   ]
  },
  {
   "cell_type": "code",
   "execution_count": 4,
   "id": "6359fd68-d463-408e-b6dd-05a7b8ec6fb5",
   "metadata": {},
   "outputs": [],
   "source": [
    "fake_df = pd.read_csv(\"Fake.csv\")\n",
    "real_df = pd.read_csv(\"True.csv\")"
   ]
  },
  {
   "cell_type": "code",
   "execution_count": 5,
   "id": "d7293fc9-194e-4b71-9393-bb22f345eecd",
   "metadata": {},
   "outputs": [
    {
     "data": {
      "text/html": [
       "<div>\n",
       "<style scoped>\n",
       "    .dataframe tbody tr th:only-of-type {\n",
       "        vertical-align: middle;\n",
       "    }\n",
       "\n",
       "    .dataframe tbody tr th {\n",
       "        vertical-align: top;\n",
       "    }\n",
       "\n",
       "    .dataframe thead th {\n",
       "        text-align: right;\n",
       "    }\n",
       "</style>\n",
       "<table border=\"1\" class=\"dataframe\">\n",
       "  <thead>\n",
       "    <tr style=\"text-align: right;\">\n",
       "      <th></th>\n",
       "      <th>title</th>\n",
       "      <th>text</th>\n",
       "      <th>subject</th>\n",
       "      <th>date</th>\n",
       "    </tr>\n",
       "  </thead>\n",
       "  <tbody>\n",
       "    <tr>\n",
       "      <th>0</th>\n",
       "      <td>Donald Trump Sends Out Embarrassing New Year’...</td>\n",
       "      <td>Donald Trump just couldn t wish all Americans ...</td>\n",
       "      <td>News</td>\n",
       "      <td>December 31, 2017</td>\n",
       "    </tr>\n",
       "    <tr>\n",
       "      <th>1</th>\n",
       "      <td>Drunk Bragging Trump Staffer Started Russian ...</td>\n",
       "      <td>House Intelligence Committee Chairman Devin Nu...</td>\n",
       "      <td>News</td>\n",
       "      <td>December 31, 2017</td>\n",
       "    </tr>\n",
       "    <tr>\n",
       "      <th>2</th>\n",
       "      <td>Sheriff David Clarke Becomes An Internet Joke...</td>\n",
       "      <td>On Friday, it was revealed that former Milwauk...</td>\n",
       "      <td>News</td>\n",
       "      <td>December 30, 2017</td>\n",
       "    </tr>\n",
       "    <tr>\n",
       "      <th>3</th>\n",
       "      <td>Trump Is So Obsessed He Even Has Obama’s Name...</td>\n",
       "      <td>On Christmas day, Donald Trump announced that ...</td>\n",
       "      <td>News</td>\n",
       "      <td>December 29, 2017</td>\n",
       "    </tr>\n",
       "    <tr>\n",
       "      <th>4</th>\n",
       "      <td>Pope Francis Just Called Out Donald Trump Dur...</td>\n",
       "      <td>Pope Francis used his annual Christmas Day mes...</td>\n",
       "      <td>News</td>\n",
       "      <td>December 25, 2017</td>\n",
       "    </tr>\n",
       "  </tbody>\n",
       "</table>\n",
       "</div>"
      ],
      "text/plain": [
       "                                               title  \\\n",
       "0   Donald Trump Sends Out Embarrassing New Year’...   \n",
       "1   Drunk Bragging Trump Staffer Started Russian ...   \n",
       "2   Sheriff David Clarke Becomes An Internet Joke...   \n",
       "3   Trump Is So Obsessed He Even Has Obama’s Name...   \n",
       "4   Pope Francis Just Called Out Donald Trump Dur...   \n",
       "\n",
       "                                                text subject  \\\n",
       "0  Donald Trump just couldn t wish all Americans ...    News   \n",
       "1  House Intelligence Committee Chairman Devin Nu...    News   \n",
       "2  On Friday, it was revealed that former Milwauk...    News   \n",
       "3  On Christmas day, Donald Trump announced that ...    News   \n",
       "4  Pope Francis used his annual Christmas Day mes...    News   \n",
       "\n",
       "                date  \n",
       "0  December 31, 2017  \n",
       "1  December 31, 2017  \n",
       "2  December 30, 2017  \n",
       "3  December 29, 2017  \n",
       "4  December 25, 2017  "
      ]
     },
     "execution_count": 5,
     "metadata": {},
     "output_type": "execute_result"
    }
   ],
   "source": [
    "fake_df.head()"
   ]
  },
  {
   "cell_type": "code",
   "execution_count": 6,
   "id": "0d229f6a-7407-43e0-a960-49d9495f0b39",
   "metadata": {},
   "outputs": [
    {
     "data": {
      "text/html": [
       "<div>\n",
       "<style scoped>\n",
       "    .dataframe tbody tr th:only-of-type {\n",
       "        vertical-align: middle;\n",
       "    }\n",
       "\n",
       "    .dataframe tbody tr th {\n",
       "        vertical-align: top;\n",
       "    }\n",
       "\n",
       "    .dataframe thead th {\n",
       "        text-align: right;\n",
       "    }\n",
       "</style>\n",
       "<table border=\"1\" class=\"dataframe\">\n",
       "  <thead>\n",
       "    <tr style=\"text-align: right;\">\n",
       "      <th></th>\n",
       "      <th>title</th>\n",
       "      <th>text</th>\n",
       "      <th>subject</th>\n",
       "      <th>date</th>\n",
       "    </tr>\n",
       "  </thead>\n",
       "  <tbody>\n",
       "    <tr>\n",
       "      <th>0</th>\n",
       "      <td>As U.S. budget fight looms, Republicans flip t...</td>\n",
       "      <td>WASHINGTON (Reuters) - The head of a conservat...</td>\n",
       "      <td>politicsNews</td>\n",
       "      <td>December 31, 2017</td>\n",
       "    </tr>\n",
       "    <tr>\n",
       "      <th>1</th>\n",
       "      <td>U.S. military to accept transgender recruits o...</td>\n",
       "      <td>WASHINGTON (Reuters) - Transgender people will...</td>\n",
       "      <td>politicsNews</td>\n",
       "      <td>December 29, 2017</td>\n",
       "    </tr>\n",
       "    <tr>\n",
       "      <th>2</th>\n",
       "      <td>Senior U.S. Republican senator: 'Let Mr. Muell...</td>\n",
       "      <td>WASHINGTON (Reuters) - The special counsel inv...</td>\n",
       "      <td>politicsNews</td>\n",
       "      <td>December 31, 2017</td>\n",
       "    </tr>\n",
       "    <tr>\n",
       "      <th>3</th>\n",
       "      <td>FBI Russia probe helped by Australian diplomat...</td>\n",
       "      <td>WASHINGTON (Reuters) - Trump campaign adviser ...</td>\n",
       "      <td>politicsNews</td>\n",
       "      <td>December 30, 2017</td>\n",
       "    </tr>\n",
       "    <tr>\n",
       "      <th>4</th>\n",
       "      <td>Trump wants Postal Service to charge 'much mor...</td>\n",
       "      <td>SEATTLE/WASHINGTON (Reuters) - President Donal...</td>\n",
       "      <td>politicsNews</td>\n",
       "      <td>December 29, 2017</td>\n",
       "    </tr>\n",
       "  </tbody>\n",
       "</table>\n",
       "</div>"
      ],
      "text/plain": [
       "                                               title  \\\n",
       "0  As U.S. budget fight looms, Republicans flip t...   \n",
       "1  U.S. military to accept transgender recruits o...   \n",
       "2  Senior U.S. Republican senator: 'Let Mr. Muell...   \n",
       "3  FBI Russia probe helped by Australian diplomat...   \n",
       "4  Trump wants Postal Service to charge 'much mor...   \n",
       "\n",
       "                                                text       subject  \\\n",
       "0  WASHINGTON (Reuters) - The head of a conservat...  politicsNews   \n",
       "1  WASHINGTON (Reuters) - Transgender people will...  politicsNews   \n",
       "2  WASHINGTON (Reuters) - The special counsel inv...  politicsNews   \n",
       "3  WASHINGTON (Reuters) - Trump campaign adviser ...  politicsNews   \n",
       "4  SEATTLE/WASHINGTON (Reuters) - President Donal...  politicsNews   \n",
       "\n",
       "                 date  \n",
       "0  December 31, 2017   \n",
       "1  December 29, 2017   \n",
       "2  December 31, 2017   \n",
       "3  December 30, 2017   \n",
       "4  December 29, 2017   "
      ]
     },
     "execution_count": 6,
     "metadata": {},
     "output_type": "execute_result"
    }
   ],
   "source": [
    "real_df.head()"
   ]
  },
  {
   "cell_type": "markdown",
   "id": "0d8b3e02-61ee-4c6b-9653-72c04f3fd2b8",
   "metadata": {},
   "source": [
    "## Data Preprosessing"
   ]
  },
  {
   "cell_type": "code",
   "execution_count": 8,
   "id": "63ac6ec4-4fbb-464d-ab00-195aeefcef77",
   "metadata": {},
   "outputs": [],
   "source": [
    "fake_df[\"type\"] = \"fake\"\n",
    "real_df[\"type\"] = \"real\""
   ]
  },
  {
   "cell_type": "code",
   "execution_count": 10,
   "id": "1b730f81-2ca4-4058-83e1-cbcfef15ee1e",
   "metadata": {},
   "outputs": [],
   "source": [
    "data = pd.concat([fake_df, real_df]).sample(frac = 1).reset_index(drop=True)"
   ]
  },
  {
   "cell_type": "code",
   "execution_count": 11,
   "id": "3c0d2c72-26a5-4d1f-afc3-3331bd18b97f",
   "metadata": {},
   "outputs": [],
   "source": [
    "data['title'] = data['title'].str.lower()\n",
    "data['text'] = data['text'].str.lower()\n",
    "data['subject'] = data['subject'].str.lower()"
   ]
  },
  {
   "cell_type": "code",
   "execution_count": 12,
   "id": "acdd00e2-f14b-493e-9139-dbdfd28c9b3d",
   "metadata": {},
   "outputs": [],
   "source": [
    "data.drop(columns=[\"subject\", \"date\"], inplace=True)"
   ]
  },
  {
   "cell_type": "code",
   "execution_count": 17,
   "id": "b9d85076-947d-4014-9976-69eb4989e015",
   "metadata": {},
   "outputs": [],
   "source": [
    "stop_words = stopwords.words('english')"
   ]
  },
  {
   "cell_type": "code",
   "execution_count": 90,
   "id": "67ad79b6-e3ed-4317-af29-de30e3ee0af7",
   "metadata": {},
   "outputs": [],
   "source": [
    "def remove_stopwords_url(text):\n",
    "    lst = re.findall('http://\\S+|https://\\S+', text)\n",
    "    for i in lst:\n",
    "        text = text.replace(i, '')\n",
    "    temp_text = text.split(' ')\n",
    "    temp_text = [i for i in temp_text if i not in stop_words]\n",
    "    return ' '.join(temp_text)"
   ]
  },
  {
   "cell_type": "code",
   "execution_count": 91,
   "id": "221165ec-08c1-435e-a02f-d3025d7525cb",
   "metadata": {},
   "outputs": [],
   "source": [
    "data['title'] = data['title'].apply(remove_stopwords_url)"
   ]
  },
  {
   "cell_type": "code",
   "execution_count": 92,
   "id": "0f7411ec-4310-4425-ac52-99cede0963ba",
   "metadata": {},
   "outputs": [],
   "source": [
    "data['text'] = data['text'].apply(remove_stopwords_url)"
   ]
  },
  {
   "cell_type": "code",
   "execution_count": 93,
   "id": "9ad3b187-4750-4891-9d48-16b64837e0de",
   "metadata": {},
   "outputs": [
    {
     "data": {
      "text/html": [
       "<div>\n",
       "<style scoped>\n",
       "    .dataframe tbody tr th:only-of-type {\n",
       "        vertical-align: middle;\n",
       "    }\n",
       "\n",
       "    .dataframe tbody tr th {\n",
       "        vertical-align: top;\n",
       "    }\n",
       "\n",
       "    .dataframe thead th {\n",
       "        text-align: right;\n",
       "    }\n",
       "</style>\n",
       "<table border=\"1\" class=\"dataframe\">\n",
       "  <thead>\n",
       "    <tr style=\"text-align: right;\">\n",
       "      <th></th>\n",
       "      <th>title</th>\n",
       "      <th>text</th>\n",
       "      <th>type</th>\n",
       "    </tr>\n",
       "  </thead>\n",
       "  <tbody>\n",
       "    <tr>\n",
       "      <th>0</th>\n",
       "      <td>dem. rep. says steve bannon ‘stone cold racis...</td>\n",
       "      <td>congressman hakeem jeffries says that, would w...</td>\n",
       "      <td>fake</td>\n",
       "    </tr>\n",
       "    <tr>\n",
       "      <th>1</th>\n",
       "      <td>conservative wants let scalia vote grave scot...</td>\n",
       "      <td>obvious scheme keep supreme court slanted way,...</td>\n",
       "      <td>fake</td>\n",
       "    </tr>\n",
       "    <tr>\n",
       "      <th>2</th>\n",
       "      <td>say what? prosecutors claim convicted islamic ...</td>\n",
       "      <td>according sun, george w. bush  successor, bara...</td>\n",
       "      <td>fake</td>\n",
       "    </tr>\n",
       "    <tr>\n",
       "      <th>3</th>\n",
       "      <td>mexico's meade seek nomination ruling pri party</td>\n",
       "      <td>mexico city (reuters) - mexico outgoing financ...</td>\n",
       "      <td>real</td>\n",
       "    </tr>\n",
       "    <tr>\n",
       "      <th>4</th>\n",
       "      <td>factbox: irma vs andrew: 2017's big hurricane ...</td>\n",
       "      <td>(reuters) - florida governor rick scott warned...</td>\n",
       "      <td>real</td>\n",
       "    </tr>\n",
       "    <tr>\n",
       "      <th>...</th>\n",
       "      <td>...</td>\n",
       "      <td>...</td>\n",
       "      <td>...</td>\n",
       "    </tr>\n",
       "    <tr>\n",
       "      <th>44893</th>\n",
       "      <td>trump wanted attack lgbtq community; jared iv...</td>\n",
       "      <td>earlier week, leaked draft executive orders ci...</td>\n",
       "      <td>fake</td>\n",
       "    </tr>\n",
       "    <tr>\n",
       "      <th>44894</th>\n",
       "      <td>factbox: trump twitter (sept 27) - filibuster ...</td>\n",
       "      <td>following statements were posted verified twit...</td>\n",
       "      <td>real</td>\n",
       "    </tr>\n",
       "    <tr>\n",
       "      <th>44895</th>\n",
       "      <td>obama says faith cure fears stirred war, hard ...</td>\n",
       "      <td>washington (reuters) - president barack obama,...</td>\n",
       "      <td>real</td>\n",
       "    </tr>\n",
       "    <tr>\n",
       "      <th>44896</th>\n",
       "      <td>grew believing blacks could support democrats…...</td>\n",
       "      <td>keep eye anita moncreif knowledge power democr...</td>\n",
       "      <td>fake</td>\n",
       "    </tr>\n",
       "    <tr>\n",
       "      <th>44897</th>\n",
       "      <td>major newspaper breaks 100 year tradition 201...</td>\n",
       "      <td>cincinnati enquirer endorsed republicans presi...</td>\n",
       "      <td>fake</td>\n",
       "    </tr>\n",
       "  </tbody>\n",
       "</table>\n",
       "<p>44898 rows × 3 columns</p>\n",
       "</div>"
      ],
      "text/plain": [
       "                                                   title  \\\n",
       "0       dem. rep. says steve bannon ‘stone cold racis...   \n",
       "1       conservative wants let scalia vote grave scot...   \n",
       "2      say what? prosecutors claim convicted islamic ...   \n",
       "3        mexico's meade seek nomination ruling pri party   \n",
       "4      factbox: irma vs andrew: 2017's big hurricane ...   \n",
       "...                                                  ...   \n",
       "44893   trump wanted attack lgbtq community; jared iv...   \n",
       "44894  factbox: trump twitter (sept 27) - filibuster ...   \n",
       "44895  obama says faith cure fears stirred war, hard ...   \n",
       "44896  grew believing blacks could support democrats…...   \n",
       "44897   major newspaper breaks 100 year tradition 201...   \n",
       "\n",
       "                                                    text  type  \n",
       "0      congressman hakeem jeffries says that, would w...  fake  \n",
       "1      obvious scheme keep supreme court slanted way,...  fake  \n",
       "2      according sun, george w. bush  successor, bara...  fake  \n",
       "3      mexico city (reuters) - mexico outgoing financ...  real  \n",
       "4      (reuters) - florida governor rick scott warned...  real  \n",
       "...                                                  ...   ...  \n",
       "44893  earlier week, leaked draft executive orders ci...  fake  \n",
       "44894  following statements were posted verified twit...  real  \n",
       "44895  washington (reuters) - president barack obama,...  real  \n",
       "44896  keep eye anita moncreif knowledge power democr...  fake  \n",
       "44897  cincinnati enquirer endorsed republicans presi...  fake  \n",
       "\n",
       "[44898 rows x 3 columns]"
      ]
     },
     "execution_count": 93,
     "metadata": {},
     "output_type": "execute_result"
    }
   ],
   "source": [
    "data"
   ]
  },
  {
   "cell_type": "markdown",
   "id": "1f145733-f83d-436f-8c0f-6b0998db1314",
   "metadata": {},
   "source": [
    "## Machine Learning"
   ]
  },
  {
   "cell_type": "code",
   "execution_count": 94,
   "id": "2523fe3c-4bca-4989-8cba-2fa672d2a260",
   "metadata": {},
   "outputs": [],
   "source": [
    "from sklearn.model_selection import train_test_split\n",
    "\n",
    "X = data[\"text\"]\n",
    "y = data[\"type\"]\n",
    "\n",
    "X_train, X_test, y_train, y_test = train_test_split(X, y, test_size=0.20, random_state=42)"
   ]
  },
  {
   "cell_type": "markdown",
   "id": "e952bfe0-1680-4971-99cf-2c3b1cc1b399",
   "metadata": {},
   "source": [
    "### Linear SVC Classification"
   ]
  },
  {
   "cell_type": "code",
   "execution_count": 95,
   "id": "7c6ce835-857a-45cf-bb93-e6f1ef312035",
   "metadata": {},
   "outputs": [
    {
     "data": {
      "text/plain": [
       "Pipeline(steps=[('tfidf', TfidfVectorizer()), ('clf', LinearSVC())])"
      ]
     },
     "execution_count": 95,
     "metadata": {},
     "output_type": "execute_result"
    }
   ],
   "source": [
    "pipe1 = Pipeline([(\"tfidf\", TfidfVectorizer()),\n",
    "                 (\"clf\", LinearSVC())])\n",
    "\n",
    "pipe1.fit(X_train, y_train)"
   ]
  },
  {
   "cell_type": "code",
   "execution_count": 96,
   "id": "f7f19243-4e2c-4da0-8885-895580bac2a5",
   "metadata": {},
   "outputs": [],
   "source": [
    "predictions1 = pipe1.predict(X_test)"
   ]
  },
  {
   "cell_type": "code",
   "execution_count": 97,
   "id": "61149991-9b53-4a93-8ad5-b4b8fabd75cc",
   "metadata": {},
   "outputs": [
    {
     "data": {
      "text/plain": [
       "0.9972160356347439"
      ]
     },
     "execution_count": 97,
     "metadata": {},
     "output_type": "execute_result"
    }
   ],
   "source": [
    "from sklearn import metrics\n",
    "metrics.accuracy_score(y_test, predictions1)"
   ]
  },
  {
   "cell_type": "markdown",
   "id": "26de6d96-24e3-4e6c-8d95-3d529496e84b",
   "metadata": {},
   "source": [
    "After fitting the Linear SVC model to the train dataset and predicting on the test data we get an accuracy score of 99.7% which is very good. Therfore, we can predict real and fake news 99.7% of the time."
   ]
  },
  {
   "cell_type": "markdown",
   "id": "86c20ba5-250e-489c-b236-f7975d38b315",
   "metadata": {},
   "source": [
    "### SGDC Classification"
   ]
  },
  {
   "cell_type": "code",
   "execution_count": 98,
   "id": "88b032e0-c14e-4549-a386-40d5c5226487",
   "metadata": {},
   "outputs": [
    {
     "data": {
      "text/plain": [
       "Pipeline(steps=[('tfidf', TfidfVectorizer()), ('clf', SGDClassifier())])"
      ]
     },
     "execution_count": 98,
     "metadata": {},
     "output_type": "execute_result"
    }
   ],
   "source": [
    "pipe2 = Pipeline([(\"tfidf\", TfidfVectorizer()),\n",
    "                 (\"clf\", SGDClassifier())])\n",
    "\n",
    "pipe2.fit(X_train, y_train)"
   ]
  },
  {
   "cell_type": "code",
   "execution_count": 99,
   "id": "83f82cdf-fa6e-4e8a-a64f-09c95fbe7363",
   "metadata": {},
   "outputs": [],
   "source": [
    "predictions2 = pipe2.predict(X_test)"
   ]
  },
  {
   "cell_type": "code",
   "execution_count": 100,
   "id": "02340dd5-f249-4d99-8171-44cfa37ce9f6",
   "metadata": {},
   "outputs": [
    {
     "data": {
      "text/plain": [
       "0.9951002227171493"
      ]
     },
     "execution_count": 100,
     "metadata": {},
     "output_type": "execute_result"
    }
   ],
   "source": [
    "metrics.accuracy_score(y_test, predictions2)"
   ]
  },
  {
   "cell_type": "markdown",
   "id": "fd79757b-8ac4-4ece-a203-3dd41fafb7be",
   "metadata": {},
   "source": [
    "After fitting the SGDC Classification model to the train dataset and predicting on the test data we get an accuracy score of 99.5% which is very good. Therfore, we can predict real and fake news 99.5% of the time."
   ]
  },
  {
   "cell_type": "markdown",
   "id": "2d0fd7fa-b03f-470e-bbfe-fd69986f4fc7",
   "metadata": {},
   "source": [
    "### Multinomial NB Classification"
   ]
  },
  {
   "cell_type": "code",
   "execution_count": 101,
   "id": "c079d5c7-917c-4f88-b757-644fcf941ea2",
   "metadata": {},
   "outputs": [
    {
     "data": {
      "text/plain": [
       "Pipeline(steps=[('tfidf', TfidfVectorizer()), ('clf', MultinomialNB())])"
      ]
     },
     "execution_count": 101,
     "metadata": {},
     "output_type": "execute_result"
    }
   ],
   "source": [
    "pipe3 = Pipeline([(\"tfidf\", TfidfVectorizer()),\n",
    "                 (\"clf\", MultinomialNB())])\n",
    "\n",
    "pipe3.fit(X_train, y_train)"
   ]
  },
  {
   "cell_type": "code",
   "execution_count": 102,
   "id": "8f08f13d-a497-40ff-bf97-1932b3e44787",
   "metadata": {},
   "outputs": [],
   "source": [
    "predictions3 = pipe3.predict(X_test)"
   ]
  },
  {
   "cell_type": "code",
   "execution_count": 103,
   "id": "60226a00-60b4-4501-bf52-c36fe6c7de2e",
   "metadata": {},
   "outputs": [
    {
     "data": {
      "text/plain": [
       "0.9416481069042316"
      ]
     },
     "execution_count": 103,
     "metadata": {},
     "output_type": "execute_result"
    }
   ],
   "source": [
    "metrics.accuracy_score(y_test, predictions3)"
   ]
  },
  {
   "cell_type": "markdown",
   "id": "86b4114a-ed0a-4b49-b3dc-7e890bfd999f",
   "metadata": {},
   "source": [
    "After fitting the Multinomial NB Classification model to the train dataset and predicting on the test data we get an accuracy score of 94.2% which is very good. Therfore, we can predict real and fake news 94.2% of the time."
   ]
  },
  {
   "cell_type": "code",
   "execution_count": null,
   "id": "be22c2da-174a-408e-843e-c9007527f657",
   "metadata": {},
   "outputs": [],
   "source": []
  }
 ],
 "metadata": {
  "kernelspec": {
   "display_name": "Python 3",
   "language": "python",
   "name": "python3"
  },
  "language_info": {
   "codemirror_mode": {
    "name": "ipython",
    "version": 3
   },
   "file_extension": ".py",
   "mimetype": "text/x-python",
   "name": "python",
   "nbconvert_exporter": "python",
   "pygments_lexer": "ipython3",
   "version": "3.8.8"
  }
 },
 "nbformat": 4,
 "nbformat_minor": 5
}
